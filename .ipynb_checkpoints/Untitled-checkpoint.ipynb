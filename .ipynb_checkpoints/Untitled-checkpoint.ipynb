{
 "cells": [
  {
   "cell_type": "code",
   "execution_count": 1,
   "id": "ce2a5035",
   "metadata": {},
   "outputs": [
    {
     "name": "stderr",
     "output_type": "stream",
     "text": [
      "/home/solomon/.local/share/miniconda3/envs/nag/lib/python3.8/site-packages/tqdm/auto.py:22: TqdmWarning: IProgress not found. Please update jupyter and ipywidgets. See https://ipywidgets.readthedocs.io/en/stable/user_install.html\n",
      "  from .autonotebook import tqdm as notebook_tqdm\n"
     ]
    }
   ],
   "source": [
    "import torch\n",
    "torch.set_default_dtype(torch.float32)\n",
    "\n",
    "import numpy as np\n",
    "import matplotlib.pyplot as plt\n",
    "\n",
    "plt.rc('text', usetex=True)\n",
    "plt.rc('text.latex', preamble=r'\\usepackage{amsmath}')\n",
    "\n",
    "from utils import *\n",
    "from optimizers import *\n",
    "from config import *"
   ]
  },
  {
   "cell_type": "code",
   "execution_count": 2,
   "id": "b0dee900",
   "metadata": {},
   "outputs": [
    {
     "name": "stdout",
     "output_type": "stream",
     "text": [
      "MC_plots already exists!\n",
      "MC_plots/data_files already exists!\n"
     ]
    }
   ],
   "source": [
    "output_plots_dir = 'MC_plots'\n",
    "saveData = True\n",
    "import os\n",
    "try:\n",
    "    os.mkdir('./'+output_plots_dir)\n",
    "except OSError as error:\n",
    "    print(output_plots_dir + \" already exists!\")\n",
    "\n",
    "if saveData:\n",
    "    try:\n",
    "        os.mkdir('./'+output_plots_dir+'/data_files')\n",
    "    except OSError as error:\n",
    "        print(output_plots_dir + '/data_files' + \" already exists!\")"
   ]
  },
  {
   "cell_type": "code",
   "execution_count": 3,
   "id": "c429fc76",
   "metadata": {},
   "outputs": [],
   "source": [
    "A_trans = np.genfromtxt('./data_files/A_1000.csv', delimiter=',')"
   ]
  },
  {
   "cell_type": "code",
   "execution_count": 4,
   "id": "0265b419",
   "metadata": {},
   "outputs": [],
   "source": [
    "pi = np.random.randn(N)\n",
    "pi[pi < 0] = 0\n",
    "pi /= np.sum(pi)"
   ]
  },
  {
   "cell_type": "code",
   "execution_count": 7,
   "id": "ed6a5183",
   "metadata": {},
   "outputs": [
    {
     "name": "stdout",
     "output_type": "stream",
     "text": [
      "MC is enabled!\n",
      "inf\n",
      "Initial Value: [6.9088554] Optimal Value: 0.0 #Params: 1000\n"
     ]
    },
    {
     "name": "stderr",
     "output_type": "stream",
     "text": [
      "100%|██████████████████████████████████████| 1000/1000 [00:01<00:00, 619.06it/s]\n"
     ]
    },
    {
     "name": "stdout",
     "output_type": "stream",
     "text": [
      "MC is enabled!\n",
      "inf\n",
      "Initial Value: [6.9088554] Optimal Value: 0.0 #Params: 1000\n"
     ]
    },
    {
     "name": "stderr",
     "output_type": "stream",
     "text": [
      "100%|██████████████████████████████████████| 1000/1000 [00:02<00:00, 410.26it/s]\n"
     ]
    },
    {
     "name": "stdout",
     "output_type": "stream",
     "text": [
      "MC is enabled!\n",
      "inf\n",
      "Initial Value: [6.9088554] Optimal Value: 0.0 #Params: 1000\n"
     ]
    },
    {
     "name": "stderr",
     "output_type": "stream",
     "text": [
      "100%|██████████████████████████████████████| 1000/1000 [00:02<00:00, 384.79it/s]\n"
     ]
    },
    {
     "name": "stdout",
     "output_type": "stream",
     "text": [
      "MC is enabled!\n",
      "inf\n",
      "Initial Value: [6.9088554] Optimal Value: 0.0 #Params: 1000\n"
     ]
    },
    {
     "name": "stderr",
     "output_type": "stream",
     "text": [
      "100%|██████████████████████████████████████| 1000/1000 [00:03<00:00, 279.41it/s]\n"
     ]
    },
    {
     "name": "stdout",
     "output_type": "stream",
     "text": [
      "MC is enabled!\n",
      "50\n",
      "Initial Value: [6.9088554] Optimal Value: 0.0 #Params: 1000\n"
     ]
    },
    {
     "name": "stderr",
     "output_type": "stream",
     "text": [
      "100%|██████████████████████████████████████| 1000/1000 [00:02<00:00, 337.52it/s]\n"
     ]
    },
    {
     "name": "stdout",
     "output_type": "stream",
     "text": [
      "MC is enabled!\n",
      "50\n",
      "Initial Value: [6.9088554] Optimal Value: 0.0 #Params: 1000\n"
     ]
    },
    {
     "name": "stderr",
     "output_type": "stream",
     "text": [
      "100%|██████████████████████████████████████| 1000/1000 [00:04<00:00, 209.05it/s]\n"
     ]
    },
    {
     "name": "stdout",
     "output_type": "stream",
     "text": [
      "MC is enabled!\n",
      "50\n",
      "Initial Value: [6.9088554] Optimal Value: 0.0 #Params: 1000\n"
     ]
    },
    {
     "name": "stderr",
     "output_type": "stream",
     "text": [
      "100%|██████████████████████████████████████| 1000/1000 [00:03<00:00, 307.55it/s]\n"
     ]
    },
    {
     "name": "stdout",
     "output_type": "stream",
     "text": [
      "MC is enabled!\n",
      "50\n",
      "Initial Value: [6.9088554] Optimal Value: 0.0 #Params: 1000\n"
     ]
    },
    {
     "name": "stderr",
     "output_type": "stream",
     "text": [
      "100%|██████████████████████████████████████| 1000/1000 [00:03<00:00, 301.83it/s]\n"
     ]
    }
   ],
   "source": [
    "#########################################################\n",
    "############## BATCH COORDINATE DESCENT #################\n",
    "#########################################################\n",
    "\n",
    "## NOISLESS EXACT GRADIENTS CONFIGURATION\n",
    "ITR_LIM = 1000\n",
    "snr = np.inf\n",
    "approx = None\n",
    "mu_noise = 0\n",
    "batch_size = 512\n",
    "delta = 0.2\n",
    "MC = True\n",
    "seed = 69\n",
    "c = 1e-2\n",
    "eps = 1e-2\n",
    "is_BCD = True\n",
    "scheduler = True\n",
    "#######################################################\n",
    "\n",
    "values_gd_exact = simulate(df, f, GD, approx=approx, mu_noise=mu_noise, snr=snr, batch_size=batch_size, is_BCD=is_BCD, delta=delta, seed=seed, isDNN=isDNN, scheduler=scheduler, c=c, eps=eps, MC=MC, A_trans=A_trans, pi=pi, ITR_LIM=ITR_LIM)\n",
    "values_nag_exact = simulate(df, f, NAG, approx=approx, mu_noise=mu_noise, snr=snr, batch_size=batch_size, is_BCD=is_BCD, delta=delta, seed=seed, isDNN=isDNN, scheduler=scheduler, c=c, eps=eps, MC=MC, A_trans=A_trans, pi=pi, ITR_LIM=ITR_LIM)\n",
    "values_nag_suts_exact = simulate(df, f, NAG_sutskever, approx=approx, mu_noise=mu_noise, snr=snr, batch_size=batch_size, is_BCD=is_BCD, delta=delta, seed=seed, isDNN=isDNN, scheduler=scheduler, c=c, eps=eps, MC=MC, A_trans=A_trans, pi=pi, ITR_LIM=ITR_LIM)\n",
    "values_nag_ben_exact = simulate(df, f, NAG_bengio, approx=approx, mu_noise=mu_noise, snr=snr, batch_size=batch_size, is_BCD=is_BCD, delta=delta, seed=seed, isDNN=isDNN, scheduler=scheduler, c=c, eps=eps, MC=MC, A_trans=A_trans, pi=pi, ITR_LIM=ITR_LIM)\n",
    "######################################################\n",
    "\n",
    "## 50dB-NOISY EXACT GRADIENTS CONFIGURATION\n",
    "\n",
    "snr_exact = 50\n",
    "approx = None\n",
    "mu_noise = 0\n",
    "batch_size = 512\n",
    "seed = 69\n",
    "#####################################################\n",
    "\n",
    "values_gd_exact_noisy = simulate(df, f, GD, approx=approx, mu_noise=mu_noise, snr=snr_exact, batch_size=batch_size, is_BCD=is_BCD, delta=delta, seed=seed, isDNN=isDNN, scheduler=scheduler, c=c, eps=eps, MC=MC, A_trans=A_trans, pi=pi, ITR_LIM=ITR_LIM)\n",
    "values_nag_exact_noisy = simulate(df, f, NAG, approx=approx, mu_noise=mu_noise, snr=snr_exact, batch_size=batch_size, is_BCD=is_BCD, delta=delta, seed=seed, isDNN=isDNN, scheduler=scheduler, c=c, eps=eps, MC=MC, A_trans=A_trans, pi=pi, ITR_LIM=ITR_LIM)\n",
    "values_nag_suts_exact_noisy = simulate(df, f, NAG_sutskever, approx=approx, mu_noise=mu_noise, snr=snr_exact, batch_size=batch_size, is_BCD=is_BCD, delta=delta, seed=seed, isDNN=isDNN, scheduler=scheduler, c=c, eps=eps, MC=MC, A_trans=A_trans, pi=pi, ITR_LIM=ITR_LIM)\n",
    "values_nag_ben_exact_noisy = simulate(df, f, NAG_bengio, approx=approx, mu_noise=mu_noise, snr=snr_exact, batch_size=batch_size, is_BCD=is_BCD, delta=delta, seed=seed, isDNN=isDNN, scheduler=scheduler, c=c, eps=eps, MC=MC, A_trans=A_trans, pi=pi, ITR_LIM=ITR_LIM)"
   ]
  },
  {
   "cell_type": "code",
   "execution_count": 9,
   "id": "f267fcb2",
   "metadata": {},
   "outputs": [
    {
     "data": {
      "image/png": "[encoded data removed]",
      "text/plain": [
       "<Figure size 1440x720 with 2 Axes>"
      ]
     },
     "metadata": {
      "needs_background": "light"
     },
     "output_type": "display_data"
    }
   ],
   "source": [
    "#### PLOTTING #################################################\n",
    "plt.figure(figsize=(20, 10))\n",
    "plt.suptitle(r\"Comparing BSGD, $\\rho$={}\".format(delta), fontsize=30)\n",
    "\n",
    "plt.subplot(1,2,1)\n",
    "plt.title(r\"Exact Gradients at SNR=$\\infty$ dB\", fontsize=25)\n",
    "# plt.semilogy(values_nag_exact, label=\"NAG\")\n",
    "# plt.semilogy(values_nag_suts_exact, '-.', label=\"Sutskever's NAG\")\n",
    "# plt.semilogy(values_nag_ben_exact, '--', label=\"Bengio's NAG\")\n",
    "plt.semilogy(values_gd_exact, label=\"BSGD\")\n",
    "plt.xlabel(r't', fontsize=20)\n",
    "plt.ylabel(r'$|J({\\boldsymbol{\\theta}_t}) - J({\\boldsymbol{\\theta}^*})|$', fontsize=20)\n",
    "plt.xticks(fontsize=14);\n",
    "plt.yticks(fontsize=14);\n",
    "\n",
    "\n",
    "plt.subplot(1,2,2)\n",
    "plt.title(\"Exact Gradients at SNR={} dB\".format(snr_exact), fontsize=25)\n",
    "# plt.semilogy(values_nag_exact_noisy, label=\"NAG\")\n",
    "# plt.semilogy(values_nag_suts_exact_noisy, '-.', label=\"Sutskever's NAG\")\n",
    "# plt.semilogy(values_nag_ben_exact_noisy, '--', label=\"Bengio's NAG\")\n",
    "plt.semilogy(values_gd_exact_noisy, label=\"BSGD\")\n",
    "plt.xlabel(r't', fontsize=20)\n",
    "plt.ylabel(r'$|J({\\boldsymbol{\\theta}_t}) - J({\\boldsymbol{\\theta}^*})|$', fontsize=20)\n",
    "plt.xticks(fontsize=14);\n",
    "plt.yticks(fontsize=14);\n",
    "\n",
    "plt.legend(loc='upper right', bbox_to_anchor=(0.85, -0.08),\n",
    "          fancybox=True, shadow=True, ncol=5, fontsize=25)\n",
    "\n",
    "plt.savefig('./'+output_plots_dir+'/Exact_asynchronous_comparisions_all_{}dB.jpg'.format(snr_exact), bbox_inches='tight')\n",
    "\n",
    "\n",
    "if saveData:\n",
    "    np.save('./'+output_plots_dir+'/data_files' + '/values_gd_exact.npy', values_gd_exact)\n",
    "    np.save('./'+output_plots_dir+'/data_files' + '/values_nag_exact.npy', values_nag_exact)\n",
    "    np.save('./'+output_plots_dir+'/data_files' + '/values_nag_suts_exact.npy', values_nag_suts_exact)\n",
    "    np.save('./'+output_plots_dir+'/data_files' + '/values_nag_ben_exact.npy', values_nag_ben_exact)\n",
    "\n",
    "    np.save('./'+output_plots_dir+'/data_files' + '/values_gd_exact_noisy.npy', values_gd_exact_noisy)\n",
    "    np.save('./'+output_plots_dir+'/data_files' + '/values_nag_exact_noisy.npy', values_nag_exact_noisy)\n",
    "    np.save('./'+output_plots_dir+'/data_files' + '/values_nag_suts_exact_noisy.npy', values_nag_suts_exact_noisy)\n",
    "    np.save('./'+output_plots_dir+'/data_files' + '/values_nag_ben_exact_noisy.npy', values_nag_ben_exact_noisy)"
   ]
  },
  {
   "cell_type": "code",
   "execution_count": 7,
   "id": "e025cb2f",
   "metadata": {},
   "outputs": [
    {
     "name": "stdout",
     "output_type": "stream",
     "text": [
      "inf\n",
      "Initial Value: [6.9088554] Optimal Value: 0.0 #Params: 1000\n"
     ]
    },
    {
     "name": "stderr",
     "output_type": "stream",
     "text": [
      "  3%|█▏                                     | 299/10000 [00:08<04:24, 36.70it/s]\n"
     ]
    },
    {
     "ename": "KeyboardInterrupt",
     "evalue": "",
     "output_type": "error",
     "traceback": [
      "\u001b[0;31m---------------------------------------------------------------------------\u001b[0m",
      "\u001b[0;31mKeyboardInterrupt\u001b[0m                         Traceback (most recent call last)",
      "Input \u001b[0;32mIn [7]\u001b[0m, in \u001b[0;36m<cell line: 12>\u001b[0;34m()\u001b[0m\n\u001b[1;32m      9\u001b[0m is_BCD \u001b[38;5;241m=\u001b[39m \u001b[38;5;28;01mTrue\u001b[39;00m\n\u001b[1;32m     10\u001b[0m \u001b[38;5;66;03m#######################################################\u001b[39;00m\n\u001b[0;32m---> 12\u001b[0m values_gd_approx \u001b[38;5;241m=\u001b[39m \u001b[43msimulate\u001b[49m\u001b[43m(\u001b[49m\u001b[43mf\u001b[49m\u001b[43m,\u001b[49m\u001b[43m \u001b[49m\u001b[43mf\u001b[49m\u001b[43m,\u001b[49m\u001b[43m \u001b[49m\u001b[43mGD\u001b[49m\u001b[43m,\u001b[49m\u001b[43m \u001b[49m\u001b[43mapprox\u001b[49m\u001b[38;5;241;43m=\u001b[39;49m\u001b[43mapprox\u001b[49m\u001b[43m,\u001b[49m\u001b[43m \u001b[49m\u001b[43mmu_noise\u001b[49m\u001b[38;5;241;43m=\u001b[39;49m\u001b[43mmu_noise\u001b[49m\u001b[43m,\u001b[49m\u001b[43m \u001b[49m\u001b[43msnr\u001b[49m\u001b[38;5;241;43m=\u001b[39;49m\u001b[43msnr\u001b[49m\u001b[43m,\u001b[49m\u001b[43m \u001b[49m\u001b[43mbatch_size\u001b[49m\u001b[38;5;241;43m=\u001b[39;49m\u001b[43mbatch_size\u001b[49m\u001b[43m,\u001b[49m\u001b[43m \u001b[49m\u001b[43mis_BCD\u001b[49m\u001b[38;5;241;43m=\u001b[39;49m\u001b[43mis_BCD\u001b[49m\u001b[43m,\u001b[49m\u001b[43m \u001b[49m\u001b[43mdelta\u001b[49m\u001b[38;5;241;43m=\u001b[39;49m\u001b[43mdelta\u001b[49m\u001b[43m,\u001b[49m\u001b[43m \u001b[49m\u001b[43mseed\u001b[49m\u001b[38;5;241;43m=\u001b[39;49m\u001b[43mseed\u001b[49m\u001b[43m,\u001b[49m\u001b[43m \u001b[49m\u001b[43misDNN\u001b[49m\u001b[38;5;241;43m=\u001b[39;49m\u001b[43misDNN\u001b[49m\u001b[43m)\u001b[49m\n\u001b[1;32m     13\u001b[0m values_nag_approx \u001b[38;5;241m=\u001b[39m simulate(f, f, NAG, approx\u001b[38;5;241m=\u001b[39mapprox, mu_noise\u001b[38;5;241m=\u001b[39mmu_noise, snr\u001b[38;5;241m=\u001b[39msnr, batch_size\u001b[38;5;241m=\u001b[39mbatch_size, is_BCD\u001b[38;5;241m=\u001b[39mis_BCD, delta\u001b[38;5;241m=\u001b[39mdelta, seed\u001b[38;5;241m=\u001b[39mseed, isDNN\u001b[38;5;241m=\u001b[39misDNN)\n\u001b[1;32m     14\u001b[0m values_nag_suts_approx \u001b[38;5;241m=\u001b[39m simulate(f, f, NAG_sutskever, approx\u001b[38;5;241m=\u001b[39mapprox, mu_noise\u001b[38;5;241m=\u001b[39mmu_noise, snr\u001b[38;5;241m=\u001b[39msnr, batch_size\u001b[38;5;241m=\u001b[39mbatch_size, is_BCD\u001b[38;5;241m=\u001b[39mis_BCD, delta\u001b[38;5;241m=\u001b[39mdelta, seed\u001b[38;5;241m=\u001b[39mseed, isDNN\u001b[38;5;241m=\u001b[39misDNN)\n",
      "File \u001b[0;32m~/BSGD/utils.py:126\u001b[0m, in \u001b[0;36msimulate\u001b[0;34m(grad, f, GD, approx, mu_noise, snr, is_BCD, delta, is_require_coords, batch_size, scheduler, ITR_LIM, step, seed, load_phi, return_params, tau, phi, p, q, c, N, isDNN, opt_f, eps, MC, A_trans, pi)\u001b[0m\n\u001b[1;32m    123\u001b[0m     params_eps\u001b[38;5;241m.\u001b[39mappend(opt\u001b[38;5;241m.\u001b[39meps)\n\u001b[1;32m    125\u001b[0m \u001b[38;5;28;01mfor\u001b[39;00m i \u001b[38;5;129;01min\u001b[39;00m tqdm(\u001b[38;5;28mrange\u001b[39m(\u001b[38;5;241m0\u001b[39m, ITR_LIM, step)):\n\u001b[0;32m--> 126\u001b[0m     \u001b[43mopt\u001b[49m\u001b[38;5;241;43m.\u001b[39;49m\u001b[43mupdate\u001b[49m\u001b[43m(\u001b[49m\u001b[43mgrad\u001b[49m\u001b[43m,\u001b[49m\u001b[43m \u001b[49m\u001b[43mscheduler\u001b[49m\u001b[38;5;241;43m=\u001b[39;49m\u001b[43mscheduler\u001b[49m\u001b[43m)\u001b[49m\n\u001b[1;32m    127\u001b[0m     \u001b[38;5;28;01mif\u001b[39;00m is_require_coords:\n\u001b[1;32m    128\u001b[0m         x_0\u001b[38;5;241m.\u001b[39mappend(opt\u001b[38;5;241m.\u001b[39mphi\u001b[38;5;241m.\u001b[39mcpu()\u001b[38;5;241m.\u001b[39mnumpy())\n",
      "File \u001b[0;32m~/BSGD/optimizers.py:91\u001b[0m, in \u001b[0;36mGD.update\u001b[0;34m(self, df, scheduler)\u001b[0m\n\u001b[1;32m     88\u001b[0m     \u001b[38;5;28mself\u001b[39m\u001b[38;5;241m.\u001b[39m_scheduler_w_noise()\n\u001b[1;32m     90\u001b[0m \u001b[38;5;28mself\u001b[39m\u001b[38;5;241m.\u001b[39m_get_components()\n\u001b[0;32m---> 91\u001b[0m grad \u001b[38;5;241m=\u001b[39m \u001b[43mgradient\u001b[49m\u001b[43m(\u001b[49m\u001b[43mdf\u001b[49m\u001b[43m,\u001b[49m\u001b[43m \u001b[49m\u001b[38;5;28;43mself\u001b[39;49m\u001b[38;5;241;43m.\u001b[39;49m\u001b[43mphi\u001b[49m\u001b[43m,\u001b[49m\u001b[43m \u001b[49m\u001b[43mi\u001b[49m\u001b[38;5;241;43m=\u001b[39;49m\u001b[38;5;28;43mself\u001b[39;49m\u001b[38;5;241;43m.\u001b[39;49m\u001b[43mcomponents\u001b[49m\u001b[43m,\u001b[49m\u001b[43m \u001b[49m\u001b[43mapprox\u001b[49m\u001b[38;5;241;43m=\u001b[39;49m\u001b[38;5;28;43mself\u001b[39;49m\u001b[38;5;241;43m.\u001b[39;49m\u001b[43mapprox\u001b[49m\u001b[43m,\u001b[49m\u001b[43m \u001b[49m\u001b[43msnr\u001b[49m\u001b[38;5;241;43m=\u001b[39;49m\u001b[38;5;28;43mself\u001b[39;49m\u001b[38;5;241;43m.\u001b[39;49m\u001b[43msnr\u001b[49m\u001b[43m,\u001b[49m\u001b[43m \u001b[49m\u001b[43mmu\u001b[49m\u001b[38;5;241;43m=\u001b[39;49m\u001b[38;5;28;43mself\u001b[39;49m\u001b[38;5;241;43m.\u001b[39;49m\u001b[43mmu\u001b[49m\u001b[43m,\u001b[49m\u001b[43m \u001b[49m\u001b[43mc\u001b[49m\u001b[38;5;241;43m=\u001b[39;49m\u001b[38;5;28;43mself\u001b[39;49m\u001b[38;5;241;43m.\u001b[39;49m\u001b[43mc\u001b[49m\u001b[43m,\u001b[49m\u001b[43m \u001b[49m\u001b[43mdevice\u001b[49m\u001b[38;5;241;43m=\u001b[39;49m\u001b[38;5;28;43mself\u001b[39;49m\u001b[38;5;241;43m.\u001b[39;49m\u001b[43mdevice\u001b[49m\u001b[43m,\u001b[49m\u001b[43m \u001b[49m\u001b[43mbatch_size\u001b[49m\u001b[38;5;241;43m=\u001b[39;49m\u001b[38;5;28;43mself\u001b[39;49m\u001b[38;5;241;43m.\u001b[39;49m\u001b[43mbatch_size\u001b[49m\u001b[43m)\u001b[49m\n\u001b[1;32m     92\u001b[0m \u001b[38;5;28mself\u001b[39m\u001b[38;5;241m.\u001b[39mphi \u001b[38;5;241m=\u001b[39m \u001b[38;5;28mself\u001b[39m\u001b[38;5;241m.\u001b[39mphi \u001b[38;5;241m-\u001b[39m \u001b[38;5;28mself\u001b[39m\u001b[38;5;241m.\u001b[39meps\u001b[38;5;241m*\u001b[39mgrad\n\u001b[1;32m     94\u001b[0m \u001b[38;5;28mself\u001b[39m\u001b[38;5;241m.\u001b[39mt \u001b[38;5;241m+\u001b[39m\u001b[38;5;241m=\u001b[39m \u001b[38;5;241m1\u001b[39m\n",
      "File \u001b[0;32m~/BSGD/utils.py:77\u001b[0m, in \u001b[0;36mgradient\u001b[0;34m(df, phi, i, approx, snr, mu, c, batch_size, device)\u001b[0m\n\u001b[1;32m     74\u001b[0m         grad[\u001b[38;5;241m0\u001b[39m, (ii\u001b[38;5;241m*\u001b[39mbatch_size):((ii\u001b[38;5;241m+\u001b[39m\u001b[38;5;241m1\u001b[39m)\u001b[38;5;241m*\u001b[39mbatch_size)] \u001b[38;5;241m=\u001b[39m first_order_approx(df, phi, i[(ii\u001b[38;5;241m*\u001b[39mbatch_size):((ii\u001b[38;5;241m+\u001b[39m\u001b[38;5;241m1\u001b[39m)\u001b[38;5;241m*\u001b[39mbatch_size)], batch_size\u001b[38;5;241m=\u001b[39mbatch_size, eps\u001b[38;5;241m=\u001b[39mc, snr\u001b[38;5;241m=\u001b[39msnr, mu\u001b[38;5;241m=\u001b[39mmu, device\u001b[38;5;241m=\u001b[39mdevice)\n\u001b[1;32m     76\u001b[0m     \u001b[38;5;28;01mif\u001b[39;00m left_idxs \u001b[38;5;241m!=\u001b[39m \u001b[38;5;241m0\u001b[39m:\n\u001b[0;32m---> 77\u001b[0m         grad[\u001b[38;5;241m0\u001b[39m, i[(n_batches\u001b[38;5;241m*\u001b[39mbatch_size):]] \u001b[38;5;241m=\u001b[39m \u001b[43mfirst_order_approx\u001b[49m\u001b[43m(\u001b[49m\u001b[43mdf\u001b[49m\u001b[43m,\u001b[49m\u001b[43m \u001b[49m\u001b[43mphi\u001b[49m\u001b[43m,\u001b[49m\u001b[43m \u001b[49m\u001b[43mi\u001b[49m\u001b[43m[\u001b[49m\u001b[43m(\u001b[49m\u001b[43mn_batches\u001b[49m\u001b[38;5;241;43m*\u001b[39;49m\u001b[43mbatch_size\u001b[49m\u001b[43m)\u001b[49m\u001b[43m:\u001b[49m\u001b[43m]\u001b[49m\u001b[43m,\u001b[49m\u001b[43m \u001b[49m\u001b[43mbatch_size\u001b[49m\u001b[38;5;241;43m=\u001b[39;49m\u001b[43mleft_idxs\u001b[49m\u001b[43m,\u001b[49m\u001b[43m \u001b[49m\u001b[43meps\u001b[49m\u001b[38;5;241;43m=\u001b[39;49m\u001b[43mc\u001b[49m\u001b[43m,\u001b[49m\u001b[43m \u001b[49m\u001b[43msnr\u001b[49m\u001b[38;5;241;43m=\u001b[39;49m\u001b[43msnr\u001b[49m\u001b[43m,\u001b[49m\u001b[43m \u001b[49m\u001b[43mmu\u001b[49m\u001b[38;5;241;43m=\u001b[39;49m\u001b[43mmu\u001b[49m\u001b[43m,\u001b[49m\u001b[43m \u001b[49m\u001b[43mdevice\u001b[49m\u001b[38;5;241;43m=\u001b[39;49m\u001b[43mdevice\u001b[49m\u001b[43m)\u001b[49m\n\u001b[1;32m     79\u001b[0m \u001b[38;5;28;01mreturn\u001b[39;00m grad\n",
      "File \u001b[0;32m~/BSGD/utils.py:41\u001b[0m, in \u001b[0;36mfirst_order_approx\u001b[0;34m(f, phi, i, batch_size, eps, snr, mu, device)\u001b[0m\n\u001b[1;32m     38\u001b[0m \u001b[38;5;28;01mfor\u001b[39;00m b_i, ii \u001b[38;5;129;01min\u001b[39;00m \u001b[38;5;28menumerate\u001b[39m(i):\n\u001b[1;32m     39\u001b[0m     e_i[b_i, ii] \u001b[38;5;241m=\u001b[39m \u001b[38;5;241m1\u001b[39m\n\u001b[0;32m---> 41\u001b[0m df \u001b[38;5;241m=\u001b[39m (add_noise(\u001b[43mf\u001b[49m\u001b[43m(\u001b[49m\u001b[43mbatch_phi\u001b[49m\u001b[43m \u001b[49m\u001b[38;5;241;43m+\u001b[39;49m\u001b[43m \u001b[49m\u001b[43meps\u001b[49m\u001b[38;5;241;43m*\u001b[39;49m\u001b[43me_i\u001b[49m\u001b[43m)\u001b[49m, snr, mu, device) \u001b[38;5;241m-\u001b[39m add_noise(f(batch_phi \u001b[38;5;241m-\u001b[39m eps\u001b[38;5;241m*\u001b[39me_i), snr, mu, device))\n\u001b[1;32m     42\u001b[0m \u001b[38;5;28;01mreturn\u001b[39;00m df\u001b[38;5;241m/\u001b[39m(\u001b[38;5;241m2\u001b[39m\u001b[38;5;241m*\u001b[39meps)\n",
      "File \u001b[0;32m~/BSGD/config.py:52\u001b[0m, in \u001b[0;36mf\u001b[0;34m(x, A, temp, device)\u001b[0m\n\u001b[1;32m     51\u001b[0m \u001b[38;5;28;01mdef\u001b[39;00m \u001b[38;5;21mf\u001b[39m(x, A\u001b[38;5;241m=\u001b[39mA, temp\u001b[38;5;241m=\u001b[39m\u001b[38;5;241m1.0\u001b[39m, device\u001b[38;5;241m=\u001b[39mdevice):\n\u001b[0;32m---> 52\u001b[0m     y \u001b[38;5;241m=\u001b[39m \u001b[43mx\u001b[49m\u001b[38;5;129;43m@A\u001b[39;49m\u001b[38;5;129m@x\u001b[39m\u001b[38;5;241m.\u001b[39mT \u001b[38;5;241m+\u001b[39m torch\u001b[38;5;241m.\u001b[39mlogsumexp(temp\u001b[38;5;241m*\u001b[39mx, dim\u001b[38;5;241m=\u001b[39m\u001b[38;5;241m1\u001b[39m)\n\u001b[1;32m     53\u001b[0m     \u001b[38;5;28;01mreturn\u001b[39;00m torch\u001b[38;5;241m.\u001b[39mdiag(y)\n",
      "\u001b[0;31mKeyboardInterrupt\u001b[0m: "
     ]
    }
   ],
   "source": [
    "## NOISELESS APPROX GRADIENTS CONFIGURATION\n",
    "\n",
    "snr = np.inf\n",
    "approx = 1\n",
    "mu_noise = 0\n",
    "batch_size = 512\n",
    "delta = 0.2\n",
    "seed = 69\n",
    "is_BCD = True\n",
    "#######################################################\n",
    "\n",
    "values_gd_approx = simulate(f, f, GD, approx=approx, mu_noise=mu_noise, snr=snr, batch_size=batch_size, is_BCD=is_BCD, delta=delta, seed=seed, isDNN=isDNN)\n",
    "values_nag_approx = simulate(f, f, NAG, approx=approx, mu_noise=mu_noise, snr=snr, batch_size=batch_size, is_BCD=is_BCD, delta=delta, seed=seed, isDNN=isDNN)\n",
    "values_nag_suts_approx = simulate(f, f, NAG_sutskever, approx=approx, mu_noise=mu_noise, snr=snr, batch_size=batch_size, is_BCD=is_BCD, delta=delta, seed=seed, isDNN=isDNN)\n",
    "values_nag_ben_approx = simulate(f, f, NAG_bengio, approx=approx, mu_noise=mu_noise, snr=snr, batch_size=batch_size, is_BCD=is_BCD, delta=delta, seed=seed, isDNN=isDNN)\n",
    "######################################################\n",
    "\n",
    "## 50dB-NOISY APPROX GRADIENTS CONFIGURATION\n",
    "\n",
    "snr_approx = 50\n",
    "approx = 1\n",
    "mu_noise = 0\n",
    "batch_size = 512\n",
    "seed = 69\n",
    "#####################################################\n",
    "\n",
    "values_gd_approx_noisy = simulate(f, f, GD, approx=approx, mu_noise=mu_noise, snr=snr_approx, batch_size=batch_size, is_BCD=is_BCD, delta=delta, seed=seed, isDNN=isDNN)\n",
    "values_nag_approx_noisy = simulate(f, f, NAG, approx=approx, mu_noise=mu_noise, snr=snr_approx, batch_size=batch_size, is_BCD=is_BCD, delta=delta, seed=seed, isDNN=isDNN)\n",
    "values_nag_suts_approx_noisy = simulate(f, f, NAG_sutskever, approx=approx, mu_noise=mu_noise, snr=snr_approx, batch_size=batch_size, is_BCD=is_BCD, delta=delta, seed=seed, isDNN=isDNN)\n",
    "values_nag_ben_approx_noisy = simulate(f, f, NAG_bengio, approx=approx, mu_noise=mu_noise, snr=snr_approx, batch_size=batch_size, is_BCD=is_BCD, delta=delta, seed=seed, isDNN=isDNN)"
   ]
  },
  {
   "cell_type": "code",
   "execution_count": null,
   "id": "3964c50c",
   "metadata": {},
   "outputs": [],
   "source": [
    "#### PLOTTING #################################################\n",
    "plt.figure(figsize=(20, 10))\n",
    "plt.suptitle(r\"Comparing BSGD, $\\rho$={}\".format(delta), fontsize=30)\n",
    "\n",
    "plt.subplot(1,2,1)\n",
    "plt.title(r\"Approx Gradients at SNR=$\\infty$ dB\", fontsize=25)\n",
    "plt.semilogy(values_nag_approx, label=\"NAG\")\n",
    "plt.semilogy(values_nag_suts_approx, '-.', label=\"Sutskever's NAG\")\n",
    "plt.semilogy(values_nag_ben_approx, '--', label=\"Bengio's NAG\")\n",
    "plt.semilogy(values_gd_approx, label=\"BSGD\")\n",
    "plt.xlabel(r't', fontsize=20)\n",
    "plt.ylabel(r'$|J({\\boldsymbol{\\theta}_t}) - J({\\boldsymbol{\\theta}^*})|$', fontsize=20)\n",
    "plt.xticks(fontsize=14);\n",
    "plt.yticks(fontsize=14);\n",
    "\n",
    "\n",
    "plt.subplot(1,2,2)\n",
    "plt.title(\"Approx Gradients at SNR={} dB\".format(snr_approx), fontsize=25)\n",
    "plt.semilogy(values_nag_approx_noisy, label=\"NAG\")\n",
    "plt.semilogy(values_nag_suts_approx_noisy, '-.', label=\"Sutskever's NAG\")\n",
    "plt.semilogy(values_nag_ben_approx_noisy, '--', label=\"Bengio's NAG\")\n",
    "plt.semilogy(values_gd_approx_noisy, label=\"BSGD\")\n",
    "plt.xlabel(r't', fontsize=20)\n",
    "plt.ylabel(r'$|J({\\boldsymbol{\\theta}_t}) - J({\\boldsymbol{\\theta}^*})|$', fontsize=20)\n",
    "plt.xticks(fontsize=14);\n",
    "plt.yticks(fontsize=14);\n",
    "\n",
    "plt.legend(loc='upper right', bbox_to_anchor=(0.85, -0.08),\n",
    "          fancybox=True, shadow=True, ncol=5, fontsize=25)\n",
    "\n",
    "plt.savefig('./'+output_plots_dir+'/asynchronous_comparisions_all_{}dB.jpg'.format(snr_approx), bbox_inches='tight')\n",
    "\n",
    "\n",
    "if saveData:\n",
    "    np.save('./'+output_plots_dir+'/data_files' + '/values_gd_approx.npy', values_gd_approx)\n",
    "    np.save('./'+output_plots_dir+'/data_files' + '/values_nag_approx.npy', values_nag_approx)\n",
    "    np.save('./'+output_plots_dir+'/data_files' + '/values_nag_suts_approx.npy', values_nag_suts_approx)\n",
    "    np.save('./'+output_plots_dir+'/data_files' + '/values_nag_ben_approx.npy', values_nag_ben_approx)\n",
    "\n",
    "    np.save('./'+output_plots_dir+'/data_files' + '/values_gd_approx_noisy.npy', values_gd_approx_noisy)\n",
    "    np.save('./'+output_plots_dir+'/data_files' + '/values_nag_approx_noisy.npy', values_nag_approx_noisy)\n",
    "    np.save('./'+output_plots_dir+'/data_files' + '/values_nag_suts_approx_noisy.npy', values_nag_suts_approx_noisy)\n",
    "    np.save('./'+output_plots_dir+'/data_files' + '/values_nag_ben_approx_noisy.npy', values_nag_ben_approx_noisy)"
   ]
  },
  {
   "cell_type": "code",
   "execution_count": null,
   "id": "f78969fd",
   "metadata": {},
   "outputs": [],
   "source": [
    "########################################################################################\n",
    "######################## BSGD varying \\rho #####################\n",
    "\n",
    "approx = 1\n",
    "mu_noise = 0\n",
    "batch_size = 128\n",
    "deltas = np.linspace(0.05, 0.2, 11)\n",
    "\n",
    "\n",
    "'''\n",
    "N = 100\n",
    "A = torch.Tensor(np.load('data_files/A_10.npy')).to(device)\n",
    "\n",
    "def f(x, A=A, device=\"cpu\"):\n",
    "    y = x@A@x.T\n",
    "    return torch.diag(y)\n",
    "\n",
    "def df(x, A=A, device=device):\n",
    "    return (2*x@A).to(device)\n",
    "'''\n",
    "\n",
    "\n",
    "phi = torch.ones(size=(1, N)).to(device)\n",
    "\n",
    "###############################\n",
    "# Approximate\n",
    "ITR_LIM = 1000\n",
    "\n",
    "nMC = 5\n",
    "scheduler = True\n",
    "\n",
    "seeds = 60 + np.arange(nMC)\n",
    "################################\n",
    "values_gd_approx = 0\n",
    "values_gd_approx_noisy = 0\n",
    "\n",
    "for j in range(nMC):\n",
    "    Values_gd_approx = []\n",
    "    Values_gd_approx_noisy = []\n",
    "\n",
    "    for delta in deltas:\n",
    "        print(\"Delta = \", delta)\n",
    "        # Exact\n",
    "        snr = np.inf\n",
    "        Values_gd_approx.append(simulate(f, f, GD, approx=approx, mu_noise=mu_noise, snr=snr, batch_size=batch_size, is_BCD=True, delta=delta, scheduler=scheduler, seed=seeds[j], ITR_LIM=ITR_LIM, load_phi=False, phi=phi))\n",
    "\n",
    "        # Approximate Noisy\n",
    "        snr_approx = 50\n",
    "        Values_gd_approx_noisy.append(simulate(f, f, GD, approx=approx, mu_noise=mu_noise, snr=snr_approx, batch_size=batch_size, is_BCD=True, delta=delta, scheduler=scheduler, seed=seeds[j], ITR_LIM=ITR_LIM, load_phi=False, phi=phi))\n",
    "\n",
    "    values_gd_approx += np.array(Values_gd_approx)\n",
    "    values_gd_approx_noisy += np.array(Values_gd_approx_noisy)\n",
    "\n",
    "values_gd_approx /= nMC\n",
    "values_gd_approx_noisy /= nMC"
   ]
  },
  {
   "cell_type": "code",
   "execution_count": null,
   "id": "a4c6daeb",
   "metadata": {},
   "outputs": [],
   "source": [
    "plot_var_delta(values_gd_approx, values_gd_approx_noisy, deltas, title=r\"BSGD varying $\\rho$\", snr=snr_approx, savepath=\"./\"+output_plots_dir+\"/varying_rho_{}.jpeg\".format(snr_approx))\n",
    "\n",
    "if saveData:\n",
    "    np.save('./'+output_plots_dir+'/data_files' + '/Values_gd_approx.npy', values_gd_approx)\n",
    "    np.save('./'+output_plots_dir+'/data_files' + '/Values_gd_approx_noisy.npy', values_gd_approx_noisy)"
   ]
  },
  {
   "cell_type": "code",
   "execution_count": null,
   "id": "1bec825a",
   "metadata": {},
   "outputs": [],
   "source": [
    "##################################################################################\n",
    "#################### Constant vs Blum ###########################\n",
    "################ Config #############\n",
    "\n",
    "approx = 1\n",
    "mu_noise = 0\n",
    "batch_size = 512\n",
    "ITR_LIM = int(1e4)\n",
    "step = 1\n",
    "seed = 69\n",
    "load_phi = False\n",
    "c = 1e-1\n",
    "eps = 1e-2\n",
    "is_BCD = True\n",
    "delta = 0.2\n",
    "return_params = True\n",
    "tau = 2e2\n",
    "(p, q) = (1, 0.02)\n",
    "\n",
    "phi = 1e-1*torch.ones(size=(1, N)).to(device)\n",
    "\n",
    "snr = 10\n",
    "\n",
    "x_gd_approx, values_gd_approx,\\\n",
    "params_c_gd_approx, params_eps_gd_approx = simulate(f, f, GD, is_require_coords=True, approx=approx,\n",
    "                                                    mu_noise=mu_noise, snr=snr, batch_size=batch_size,\n",
    "                                                    scheduler=False, ITR_LIM=ITR_LIM, step=step, seed=seed,\n",
    "                                                    load_phi=load_phi, return_params=return_params,\n",
    "                                                    tau=tau, phi=phi, p=p, q=q, is_BCD=is_BCD, delta=delta, c=c, eps=eps)\n",
    "x_gd_approx_blum, values_gd_approx_blum,\\\n",
    "params_c_gd_approx_blum, params_eps_gd_approx_blum = simulate(f, f, GD, is_require_coords=True,\n",
    "                                                              approx=approx, mu_noise=mu_noise, snr=snr,\n",
    "                                                              batch_size=batch_size, scheduler=True,\n",
    "                                                              ITR_LIM=ITR_LIM, step=step, seed=seed,\n",
    "                                                              load_phi=load_phi, return_params=return_params,\n",
    "                                                              tau=tau, phi=phi, p=p, q=q, is_BCD=is_BCD, delta=delta, c=c, eps=eps)\n",
    "\n",
    "\n",
    "snr1 = 20\n",
    "\n",
    "x_gd_approx, values_gd_approx_noisy,\\\n",
    "params_c_gd_approx, params_eps_gd_approx = simulate(f, f, GD, is_require_coords=True, approx=approx,\n",
    "                                                    mu_noise=mu_noise, snr=snr, batch_size=batch_size,\n",
    "                                                    scheduler=False, ITR_LIM=ITR_LIM, step=step, seed=seed,\n",
    "                                                    load_phi=load_phi, return_params=return_params,\n",
    "                                                    tau=tau, phi=phi, p=p, q=q, is_BCD=is_BCD, delta=delta, c=c, eps=eps)\n",
    "x_gd_approx_blum, values_gd_approx_blum_noisy,\\\n",
    "params_c_gd_approx_blum, params_eps_gd_approx_blum = simulate(f, f, GD, is_require_coords=True,\n",
    "                                                              approx=approx, mu_noise=mu_noise, snr=snr1,\n",
    "                                                              batch_size=batch_size, scheduler=True,\n",
    "                                                              ITR_LIM=ITR_LIM, step=step, seed=seed,\n",
    "                                                              load_phi=load_phi, return_params=return_params,\n",
    "                                                              tau=tau, phi=phi, p=p, q=q, is_BCD=is_BCD, delta=delta, c=c, eps=eps)\n"
   ]
  },
  {
   "cell_type": "code",
   "execution_count": null,
   "id": "0bf0c5e5",
   "metadata": {},
   "outputs": [],
   "source": [
    "plt.figure(figsize=(12, 8))\n",
    "plt.title(r\"Constant step size vs Blum's condition, $\\rho$ = 0.2\", fontsize=25)\n",
    "\n",
    "plt.semilogy(values_gd_approx, label=\"Constant Step Size at SNR = {} dB\".format(snr))\n",
    "plt.semilogy(values_gd_approx_noisy, label=\"Constant Step Size at SNR = {} dB\".format(snr1))\n",
    "plt.semilogy(values_gd_approx_blum, label=\"Blum's conditions at SNR = {} dB\".format(snr))\n",
    "plt.semilogy(values_gd_approx_blum_noisy, label=\"Blum's conditions at SNR = {} dB\".format(snr1))\n",
    "plt.xlabel(r't', fontsize=20)\n",
    "plt.ylabel(r'$|J({\\boldsymbol {\\theta}_t}) - J({\\boldsymbol {\\theta}^*})|$', fontsize=20)\n",
    "plt.xticks(fontsize=14);\n",
    "plt.yticks(fontsize=14);\n",
    "\n",
    "plt.legend(loc='upper right', bbox_to_anchor=(1.06, -0.08),\n",
    "          fancybox=True, shadow=True, ncol=2, fontsize=20)\n",
    "plt.savefig('./'+output_plots_dir+'/constant_v_blum_together.jpg', bbox_inches='tight')\n",
    "\n",
    "if saveData:\n",
    "    np.save('./'+output_plots_dir+'/data_files' + '/values_gd_approx.npy', values_gd_approx)\n",
    "    np.save('./'+output_plots_dir+'/data_files' + '/values_gd_approx_noisy.npy', values_gd_approx_noisy)\n",
    "    np.save('./'+output_plots_dir+'/data_files' + '/values_gd_approx_blum.npy', values_gd_approx_blum)\n",
    "    np.save('./'+output_plots_dir+'/data_files' + '/values_gd_approx_blum_noisy.npy', values_gd_approx_blum_noisy)"
   ]
  },
  {
   "cell_type": "code",
   "execution_count": null,
   "id": "067889df",
   "metadata": {},
   "outputs": [],
   "source": [
    "approx = 1\n",
    "delta = 0.2\n",
    "phi = torch.zeros((1, N)).to(device)\n",
    "ITR_LIM = 1000\n",
    "mu_noise = 0.0\n",
    "batch_size = 512\n",
    "scheduler = True\n",
    "seed = 69\n",
    "nMC = 5\n",
    "\n",
    "val_approx = 0\n",
    "val_approx_noisy = 0\n",
    "for _ in range(nMC):\n",
    "    snr = np.inf\n",
    "    val_approx += np.array(simulate(f, f, GD, approx=approx, mu_noise=mu_noise, snr=snr, batch_size=batch_size, is_BCD=True, delta=delta, scheduler=scheduler, seed=seed, ITR_LIM=ITR_LIM, load_phi=False, phi=phi))\n",
    "\n",
    "    snr = 20\n",
    "\n",
    "    val_approx_noisy += np.array(simulate(f, f, GD, approx=approx, mu_noise=mu_noise, snr=snr, batch_size=batch_size, is_BCD=True, delta=delta, scheduler=scheduler, seed=seed, ITR_LIM=ITR_LIM, load_phi=False, phi=phi))\n",
    "\n",
    "val_approx /= nMC\n",
    "val_approx_noisy /= nMC\n",
    "\n",
    "if saveData:\n",
    "    np.save('./'+output_plots_dir+'/data_files' + '/val_approx_full.npy', val_approx)\n",
    "    np.save('./'+output_plots_dir+'/data_files' + '/val_approx_noisy_full.npy', val_approx_noisy)\n"
   ]
  }
 ],
 "metadata": {
  "kernelspec": {
   "display_name": "Python 3 (ipykernel)",
   "language": "python",
   "name": "python3"
  },
  "language_info": {
   "codemirror_mode": {
    "name": "ipython",
    "version": 3
   },
   "file_extension": ".py",
   "mimetype": "text/x-python",
   "name": "python",
   "nbconvert_exporter": "python",
   "pygments_lexer": "ipython3",
   "version": "3.8.0"
  }
 },
 "nbformat": 4,
 "nbformat_minor": 5
}
