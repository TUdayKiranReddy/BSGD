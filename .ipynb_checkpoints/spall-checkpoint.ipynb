{
 "cells": [
  {
   "cell_type": "code",
   "execution_count": 1,
   "id": "ece2d0a9",
   "metadata": {},
   "outputs": [
    {
     "name": "stderr",
     "output_type": "stream",
     "text": [
      "/home/solomon/.local/share/miniconda3/envs/nag/lib/python3.8/site-packages/tqdm/auto.py:22: TqdmWarning: IProgress not found. Please update jupyter and ipywidgets. See https://ipywidgets.readthedocs.io/en/stable/user_install.html\n",
      "  from .autonotebook import tqdm as notebook_tqdm\n"
     ]
    }
   ],
   "source": [
    "import numpy as np\n",
    "import matplotlib.pyplot as plt\n",
    "\n",
    "plt.rc('text', usetex=True)\n",
    "plt.rc('text.latex', preamble=r'\\usepackage{amsmath}')\n",
    "\n",
    "\n",
    "from utils import *\n",
    "from optimizers import *"
   ]
  },
  {
   "cell_type": "code",
   "execution_count": 11,
   "id": "bc18218c",
   "metadata": {},
   "outputs": [],
   "source": [
    "snr = np.inf\n",
    "mu_noise = 0\n",
    "batch_size = 512\n",
    "delta = 0.2\n",
    "seed = 69\n",
    "c = 1e-2\n",
    "eps = 1e-2\n",
    "is_BCD = True\n",
    "scheduler = True\n",
    "\n",
    "ITR_LIM = 1000\n",
    "\n",
    "snr = 50\n",
    "approx = 1\n",
    "mu_noise = 0\n",
    "batch_size = 512\n",
    "seed = 69\n",
    "#####################################################"
   ]
  },
  {
   "cell_type": "code",
   "execution_count": null,
   "id": "a8bf4729",
   "metadata": {},
   "outputs": [
    {
     "name": "stdout",
     "output_type": "stream",
     "text": [
      "50\n",
      "Initial Value: [6.9088554] Optimal Value: 0.0 #Params: 1000\n"
     ]
    },
    {
     "name": "stderr",
     "output_type": "stream",
     "text": [
      " 41%|████████████████▍                       | 412/1000 [00:04<00:10, 58.01it/s]"
     ]
    }
   ],
   "source": [
    "values_gd_approx = simulate(f, f, GD, approx=approx, mu_noise=mu_noise, snr=snr, batch_size=batch_size, is_BCD=is_BCD, delta=delta, seed=seed, isDNN=isDNN, ITR_LIM=ITR_LIM)"
   ]
  },
  {
   "cell_type": "code",
   "execution_count": null,
   "id": "39934b8e",
   "metadata": {
    "scrolled": true
   },
   "outputs": [],
   "source": [
    "values_gd_approx_lc = simulate(f, f, GD, approx=approx, mu_noise=mu_noise, snr=snr, batch_size=batch_size, is_BCD=is_BCD, delta=delta, seed=seed, isDNN=isDNN, local_clock=True, ITR_LIM=ITR_LIM)"
   ]
  },
  {
   "cell_type": "code",
   "execution_count": 5,
   "id": "3e8edeb6",
   "metadata": {
    "scrolled": true
   },
   "outputs": [
    {
     "name": "stdout",
     "output_type": "stream",
     "text": [
      "50\n",
      "Initial Value: [6.9088554] Optimal Value: 0.0 #Params: 1000\n"
     ]
    },
    {
     "name": "stderr",
     "output_type": "stream",
     "text": [
      "100%|████████████████████████████████████████| 100/100 [00:00<00:00, 821.85it/s]\n"
     ]
    }
   ],
   "source": [
    "values_gd_approx_spall = simulate(f, f, GD, approx=approx, mu_noise=mu_noise, snr=snr, batch_size=batch_size, is_BCD=is_BCD, delta=delta, seed=seed, isDNN=isDNN, ITR_LIM=ITR_LIM, spall_grad=True, scheduler=False)"
   ]
  },
  {
   "cell_type": "code",
   "execution_count": null,
   "id": "b6872945",
   "metadata": {},
   "outputs": [],
   "source": [
    "plt.title(r\"Approximate Gradients at SNR={} dB\".format(snr), fontsize=25)\n",
    "plt.semilogy(values_gd_approx, label=\"Global Clock\")\n",
    "plt.semilogy(values_gd_approx_lc, '-.', label=\"Local Clock\")\n",
    "# plt.semilogy(values_gd_approx_spall, '--', label=\"Spall Gradient\")\n",
    "plt.xlabel(r't', fontsize=20)\n",
    "plt.ylabel(r'$|J({\\boldsymbol{\\theta}_t}) - J({\\boldsymbol{\\theta}^*})|$', fontsize=20)\n",
    "plt.xticks(fontsize=14);\n",
    "plt.yticks(fontsize=14);\n",
    "plt.legend()"
   ]
  },
  {
   "cell_type": "code",
   "execution_count": 7,
   "id": "0c55c1fb",
   "metadata": {},
   "outputs": [],
   "source": [
    "phi = torch.Tensor(np.ones((1, N))).to(device)"
   ]
  },
  {
   "cell_type": "code",
   "execution_count": 8,
   "id": "8994da0c",
   "metadata": {},
   "outputs": [],
   "source": [
    "g1 = spall_gradient(f, phi, c=1e-12, snr=np.inf, mu=0, perturb_snr=100, perturb_mu=0, device=device)"
   ]
  },
  {
   "cell_type": "code",
   "execution_count": 9,
   "id": "6af06e3c",
   "metadata": {},
   "outputs": [
    {
     "ename": "IndexError",
     "evalue": "index 1 is out of bounds for dimension 0 with size 1",
     "output_type": "error",
     "traceback": [
      "\u001b[0;31m---------------------------------------------------------------------------\u001b[0m",
      "\u001b[0;31mIndexError\u001b[0m                                Traceback (most recent call last)",
      "Input \u001b[0;32mIn [9]\u001b[0m, in \u001b[0;36m<cell line: 1>\u001b[0;34m()\u001b[0m\n\u001b[0;32m----> 1\u001b[0m \u001b[43mg1\u001b[49m\u001b[43m[\u001b[49m\u001b[38;5;241;43m1\u001b[39;49m\u001b[43m]\u001b[49m\n",
      "\u001b[0;31mIndexError\u001b[0m: index 1 is out of bounds for dimension 0 with size 1"
     ]
    }
   ],
   "source": [
    "g1[1]"
   ]
  },
  {
   "cell_type": "code",
   "execution_count": null,
   "id": "2f4e8ea2",
   "metadata": {},
   "outputs": [],
   "source": [
    "v = 0.1*torch.Tensor(2*np.random.binomial(1, p=0.5, size=phi.shape) - 1).to(device)"
   ]
  },
  {
   "cell_type": "code",
   "execution_count": null,
   "id": "339a3f1a",
   "metadata": {
    "scrolled": true
   },
   "outputs": [],
   "source": [
    "v"
   ]
  },
  {
   "cell_type": "code",
   "execution_count": null,
   "id": "c488fa66",
   "metadata": {},
   "outputs": [],
   "source": [
    "f(phi + v)"
   ]
  },
  {
   "cell_type": "code",
   "execution_count": null,
   "id": "9103a9d1",
   "metadata": {},
   "outputs": [],
   "source": [
    "f(phi + v)/(v)"
   ]
  },
  {
   "cell_type": "code",
   "execution_count": null,
   "id": "34177f64",
   "metadata": {
    "scrolled": true
   },
   "outputs": [],
   "source": [
    "(f(phi + v) - f(phi))/(v)"
   ]
  },
  {
   "cell_type": "code",
   "execution_count": null,
   "id": "3396adac",
   "metadata": {},
   "outputs": [],
   "source": [
    "f(phi)"
   ]
  },
  {
   "cell_type": "code",
   "execution_count": null,
   "id": "b026870d",
   "metadata": {},
   "outputs": [],
   "source": [
    "df(phi)"
   ]
  },
  {
   "cell_type": "code",
   "execution_count": null,
   "id": "7dc24bea",
   "metadata": {},
   "outputs": [],
   "source": []
  }
 ],
 "metadata": {
  "kernelspec": {
   "display_name": "Python 3 (ipykernel)",
   "language": "python",
   "name": "python3"
  },
  "language_info": {
   "codemirror_mode": {
    "name": "ipython",
    "version": 3
   },
   "file_extension": ".py",
   "mimetype": "text/x-python",
   "name": "python",
   "nbconvert_exporter": "python",
   "pygments_lexer": "ipython3",
   "version": "3.8.0"
  }
 },
 "nbformat": 4,
 "nbformat_minor": 5
}
