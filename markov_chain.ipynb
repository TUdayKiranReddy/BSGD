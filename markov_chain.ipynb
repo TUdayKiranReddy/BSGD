{
 "cells": [
  {
   "cell_type": "code",
   "execution_count": 4,
   "id": "47d010df",
   "metadata": {},
   "outputs": [],
   "source": [
    "import torch\n",
    "import numpy as np\n",
    "import matplotlib.pyplot as plt\n",
    "\n",
    "np.random.seed(6969)\n",
    "device = \"cpu\""
   ]
  },
  {
   "cell_type": "code",
   "execution_count": 28,
   "id": "bded6beb",
   "metadata": {},
   "outputs": [],
   "source": [
    "A = torch.Tensor([[0.1, 0.9], [0.6, 0.4]])"
   ]
  },
  {
   "cell_type": "code",
   "execution_count": 32,
   "id": "8db03dc8",
   "metadata": {},
   "outputs": [],
   "source": [
    "def get_single_path(idxs, pi, N=1):\n",
    "    return np.random.choice(idxs, size=N, p=pi)\n",
    "\n",
    "def generate_markov_path(pi, A, T, num_paths=1):\n",
    "    N = A.shape[0]\n",
    "    idxs = np.arange(N)\n",
    "    mc_paths = []\n",
    "    for i in range(num_paths):\n",
    "        init_idxs = get_single_path(idxs, pi)[0]\n",
    "        path = [init_idxs]\n",
    "        for i in range(T-1):\n",
    "            path.append(get_single_path(idxs, A[path[-1]])[0])\n",
    "        mc_paths.append(path)\n",
    "    return mc_paths\n",
    "\n",
    "def get_next_state(curr, A, idxs):\n",
    "    curr = np,unique(curr)\n",
    "    nex = [get_single_path(idxs, A[i])[0] for i in curr]\n",
    "    return nex"
   ]
  },
  {
   "cell_type": "code",
   "execution_count": 23,
   "id": "b280ae63",
   "metadata": {},
   "outputs": [],
   "source": [
    "idxs = np.arange(2)"
   ]
  },
  {
   "cell_type": "code",
   "execution_count": 29,
   "id": "0e359ae8",
   "metadata": {},
   "outputs": [],
   "source": [
    "pi = np.array([0.1, 0.9])\n",
    "A = A.numpy()"
   ]
  },
  {
   "cell_type": "code",
   "execution_count": 22,
   "id": "aba0d7fa",
   "metadata": {},
   "outputs": [
    {
     "ename": "ValueError",
     "evalue": "'a' and 'p' must have same size",
     "output_type": "error",
     "traceback": [
      "\u001b[0;31m---------------------------------------------------------------------------\u001b[0m",
      "\u001b[0;31mValueError\u001b[0m                                Traceback (most recent call last)",
      "Input \u001b[0;32mIn [22]\u001b[0m, in \u001b[0;36m<cell line: 1>\u001b[0;34m()\u001b[0m\n\u001b[0;32m----> 1\u001b[0m \u001b[43mnp\u001b[49m\u001b[38;5;241;43m.\u001b[39;49m\u001b[43mrandom\u001b[49m\u001b[38;5;241;43m.\u001b[39;49m\u001b[43mchoice\u001b[49m\u001b[43m(\u001b[49m\u001b[43ma\u001b[49m\u001b[38;5;241;43m=\u001b[39;49m\u001b[43midxs\u001b[49m\u001b[43m,\u001b[49m\u001b[43m \u001b[49m\u001b[43msize\u001b[49m\u001b[38;5;241;43m=\u001b[39;49m\u001b[38;5;241;43m1\u001b[39;49m\u001b[43m,\u001b[49m\u001b[43m \u001b[49m\u001b[43mp\u001b[49m\u001b[38;5;241;43m=\u001b[39;49m\u001b[43mpi\u001b[49m\u001b[43m)\u001b[49m[\u001b[38;5;241m0\u001b[39m]\n",
      "File \u001b[0;32mmtrand.pyx:932\u001b[0m, in \u001b[0;36mnumpy.random.mtrand.RandomState.choice\u001b[0;34m()\u001b[0m\n",
      "\u001b[0;31mValueError\u001b[0m: 'a' and 'p' must have same size"
     ]
    }
   ],
   "source": [
    "np.random.choice(a=idxs, size=1, p=pi)[0]"
   ]
  },
  {
   "cell_type": "code",
   "execution_count": 30,
   "id": "67e5d104",
   "metadata": {},
   "outputs": [
    {
     "data": {
      "text/plain": [
       "[[1, 0, 1, 1, 0, 1, 0, 1, 1, 1]]"
      ]
     },
     "execution_count": 30,
     "metadata": {},
     "output_type": "execute_result"
    }
   ],
   "source": [
    "generate_markov_path(pi, A, 10)"
   ]
  },
  {
   "cell_type": "code",
   "execution_count": null,
   "id": "ff8a6b64",
   "metadata": {},
   "outputs": [],
   "source": []
  }
 ],
 "metadata": {
  "kernelspec": {
   "display_name": "Python 3 (ipykernel)",
   "language": "python",
   "name": "python3"
  },
  "language_info": {
   "codemirror_mode": {
    "name": "ipython",
    "version": 3
   },
   "file_extension": ".py",
   "mimetype": "text/x-python",
   "name": "python",
   "nbconvert_exporter": "python",
   "pygments_lexer": "ipython3",
   "version": "3.8.0"
  }
 },
 "nbformat": 4,
 "nbformat_minor": 5
}
